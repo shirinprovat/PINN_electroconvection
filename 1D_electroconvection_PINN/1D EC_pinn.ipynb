{
 "cells": [
  {
   "cell_type": "markdown",
   "id": "40523f49",
   "metadata": {},
   "source": [
    "\n"
   ]
  },
  {
   "cell_type": "markdown",
   "id": "7e3a1423",
   "metadata": {},
   "source": [
    "# Solve 1D electroconvection using PINN\n"
   ]
  },
  {
   "cell_type": "markdown",
   "id": "b509872d",
   "metadata": {},
   "source": [
    "reference code: https://github.com/nanditadoloi/PINN.git\n",
    "reference paper: https://arxiv.org/abs/2006.14050\n"
   ]
  },
  {
   "cell_type": "code",
   "execution_count": 1,
   "id": "66e146af",
   "metadata": {},
   "outputs": [],
   "source": [
    "import torch\n",
    "import torch.nn as nn\n",
    "from torch.autograd import Variable\n",
    "device = torch.device(\"cuda:0\" if torch.cuda.is_available() else \"cpu\")\n",
    "import numpy as np\n",
    "import math\n",
    "\n",
    "from torch.optim.lr_scheduler import LinearLR"
   ]
  },
  {
   "cell_type": "code",
   "execution_count": 2,
   "id": "3ca3a98f",
   "metadata": {},
   "outputs": [],
   "source": [
    "# We consider Net as our solution u_theta(x)\n",
    "\n",
    "class Net(nn.Module):\n",
    "    def __init__(self, num_layers=3, neuron=3):\n",
    "        super(Net, self).__init__()\n",
    "        N_input = 1\n",
    "        N_output = 2\n",
    "        \n",
    "        # Define a list to hold the hidden layers\n",
    "        self.hidden_layers = nn.ModuleList([\n",
    "            nn.Linear(N_input, neuron) if i == 0 else nn.Linear(neuron, neuron)\n",
    "            for i in range(num_layers)\n",
    "        ])\n",
    "        \n",
    "        self.output_layer = nn.Linear(neuron, N_output)\n",
    "\n",
    "    def forward(self, x):\n",
    "        inputs = x\n",
    "        # Loop through the hidden layers\n",
    "        for layer in self.hidden_layers:\n",
    "            inputs = torch.sigmoid(layer(inputs))\n",
    "        \n",
    "        output = self.output_layer(inputs)\n",
    "        return output\n"
   ]
  },
  {
   "cell_type": "code",
   "execution_count": 3,
   "id": "9bf6db90",
   "metadata": {},
   "outputs": [],
   "source": [
    "### (2) Model\n",
    "lr=0.01\n",
    "net = Net()\n",
    "net = net.to(device)\n",
    "mse_cost_function = torch.nn.MSELoss() # Mean squared error\n",
    "optimizer = torch.optim.Adam(net.parameters(),lr)\n",
    "\n",
    "\n",
    "# Define the scheduler\n",
    "scheduler = LinearLR(optimizer, start_factor=1,end_factor=0.1, total_iters = 50000) "
   ]
  },
  {
   "cell_type": "code",
   "execution_count": 4,
   "id": "c9180964",
   "metadata": {},
   "outputs": [],
   "source": [
    "## PDE as loss function. Thus would use the network which we call as u_theta\n",
    "def f(x, net):\n",
    "    C = net(x)[:,0]\n",
    "    phi=net(x)[:,1]\n",
    "    C = C.reshape(C.numel(),1)\n",
    "    phi=phi.reshape(C.numel(),1)\n",
    " \n",
    "  \n",
    "    d_phi_dx = torch.autograd.grad(phi.sum(), x, create_graph=True)[0]\n",
    "    d2_phi_dx2 = torch.autograd.grad(d_phi_dx.sum(), x, create_graph=True)[0]\n",
    "    CdPhi=C*d_phi_dx\n",
    "    d_CdPhi_dx= torch.autograd.grad(CdPhi.sum(), x, create_graph=True)[0]\n",
    "    \n",
    "    Q=10\n",
    "    pde_C = -d_CdPhi_dx\n",
    "    pde_phi=d2_phi_dx2+Q*C\n",
    "  \n",
    "    return pde_C, pde_phi\n",
    "def bc_f(x, net):\n",
    "    C = net(x)[0]\n",
    "    phi=net(x)[1]\n",
    " \n",
    "    d_phi_dx = torch.autograd.grad(phi.sum(), x, create_graph=True)[0]\n",
    "    CdPhi=C*d_phi_dx\n",
    "    d_CdPhi_dx= torch.autograd.grad(CdPhi.sum(), x, create_graph=True)[0]\n",
    "    \n",
    "    bc = -d_CdPhi_dx\n",
    "\n",
    "    return bc\n",
    "def exact_C(x):\n",
    "    a=0.74412\n",
    "    b=0.0055371\n",
    "    Q=10.0\n",
    "    C=(a/Q)*np.power(x+b,-0.5)\n",
    "    return C\n",
    "def exact_E(x):\n",
    "    a=0.74412\n",
    "    b=0.0055371\n",
    "    Q=10.0\n",
    "    E=2.0*a*np.power(x+b,0.5)\n",
    "    return E"
   ]
  },
  {
   "cell_type": "markdown",
   "id": "f13bc7c7",
   "metadata": {},
   "source": [
    "# Data generation"
   ]
  },
  {
   "cell_type": "code",
   "execution_count": 5,
   "id": "6082d6e3",
   "metadata": {},
   "outputs": [],
   "source": [
    "x_Lbc = torch.tensor([0.0])\n",
    "x_Rbc = torch.tensor([1.0])\n",
    "x_Rbc = torch.tensor([1.0], requires_grad=True)\n",
    "# compute u based on BC\n",
    "C_Lbc = torch.tensor([1.0])\n",
    "C_Rbc = torch.tensor([0.0])\n",
    "phi_Lbc = torch.tensor([1.0])\n",
    "phi_Rbc = torch.tensor([0.0])\n",
    "NT_int=300\n",
    "x_collocation = np.random.uniform(low=0.0, high=1.0, size=(NT_int,1))"
   ]
  },
  {
   "cell_type": "markdown",
   "id": "bb84d3cf",
   "metadata": {},
   "source": [
    "# Training"
   ]
  },
  {
   "cell_type": "code",
   "execution_count": null,
   "id": "1f4bd13b",
   "metadata": {
    "scrolled": true
   },
   "outputs": [],
   "source": [
    "### (3) Training / Fitting\n",
    "iterations = 100000\n",
    "previous_validation_loss = 99999999.0\n",
    "losses = []  # Empty list to store loss values\n",
    "for epoch in range(iterations):\n",
    "    optimizer.zero_grad() # to make the gradients zero\n",
    "    \n",
    "    # Loss based on left boundary conditions\n",
    "\n",
    "    net_Lbc_out = net(x_Lbc).reshape(1,2) # output of C(x),phi(x)\n",
    "    mse_Lbc = mse_cost_function(net_Lbc_out[:,0], C_Lbc)+mse_cost_function(net_Lbc_out[:,1], phi_Lbc)\n",
    "    \n",
    "    # Loss based on right boundary conditions\n",
    "    net_Rbc_out = net(x_Rbc).reshape(1,2) # output of C(x)\n",
    "    bc= bc_f(x_Rbc, net)\n",
    "    mse_Rbc = mse_cost_function(bc, C_Rbc)+ mse_cost_function(net_Rbc_out[:,1], phi_Rbc)\n",
    "    \n",
    "\n",
    "    \n",
    "    # Loss based on PDE\n",
    "\n",
    "    all_zeros = np.zeros((NT_int,1))\n",
    "    \n",
    "    \n",
    "    pt_x_collocation = Variable(torch.from_numpy(x_collocation).float(), requires_grad=True).to(device)\n",
    "\n",
    "    pt_all_zeros = Variable(torch.from_numpy(all_zeros).float(), requires_grad=False).to(device)\n",
    "\n",
    "    f_C, f_phi = f(pt_x_collocation, net) # output of f(x)\n",
    "    \n",
    "    \n",
    "    mse_f_C = mse_cost_function(f_C, pt_all_zeros)#\n",
    "    mse_f_phi = mse_cost_function(f_phi, pt_all_zeros)\n",
    "    \n",
    "    # Combining the loss functions\n",
    "    loss = mse_f_C+mse_f_phi +mse_Lbc+mse_Rbc\n",
    "    \n",
    "    \n",
    "    loss.backward() # This is for computing gradients using backward propagation\n",
    "    optimizer.step() \n",
    "    scheduler.step()\n",
    "    lr=optimizer.param_groups[0]['lr']\n",
    "    losses.append(loss.detach().numpy())\n",
    "    \n",
    "    with torch.autograd.no_grad(): \n",
    "    \tif(epoch%500==0):\n",
    "            print(epoch,\"Traning Loss:\",loss.data, \"LR:\",lr)\n",
    "    if(loss.detach().numpy()<0.0001):\n",
    "        break"
   ]
  },
  {
   "cell_type": "code",
   "execution_count": null,
   "id": "b128f200",
   "metadata": {},
   "outputs": [],
   "source": [
    "#torch.save(net, \"model_1Dec_linschLR_300_ln33_2.pt\")"
   ]
  },
  {
   "cell_type": "markdown",
   "id": "2ba0c2b4",
   "metadata": {},
   "source": [
    "# Testing"
   ]
  },
  {
   "cell_type": "code",
   "execution_count": null,
   "id": "9df2b00c",
   "metadata": {},
   "outputs": [],
   "source": [
    "#testing\n",
    "import matplotlib.pyplot as plt\n",
    "from matplotlib import cm\n",
    "from matplotlib.ticker import LinearLocator, FormatStrFormatter\n",
    "import numpy as np\n",
    "\n",
    "fig = plt.figure()\n",
    "#ax = fig.gca(projection='3d')\n",
    "\n",
    "\n",
    "x=np.arange(0,1,0.001)\n",
    "# xe=np.arange(0,1,0.02).reshape(len(x), 1)\n",
    "# print(xe.shape)\n",
    "\n",
    "pt_x = torch.from_numpy(x).float().reshape(len(x), 1)\n",
    "pt_x.requires_grad = True \n",
    "# xx=Variable(torch.from_numpy(xe).float(), requires_grad=True).to(device)\n",
    "pt_out = net(pt_x)\n",
    "#print(pt_out)\n",
    "C=pt_out[:,0].detach().numpy()\n",
    "phi=pt_out[:,1]\n",
    "# Compute the derivative dphi/dx for each element in phi\n",
    "d_phi_dx = torch.autograd.grad(phi.sum(), pt_x, create_graph=True)[0]\n",
    "\n",
    "# Calculate E = -dphi/dx\n",
    "E = -d_phi_dx.detach().numpy().squeeze()  # Ensure the same shape as x\n",
    "\n",
    "ex_c = exact_C(x)\n",
    "ex_E = exact_E(x)\n",
    "\n",
    "# Plotting\n",
    "plt.figure(figsize=(8, 6))\n",
    "plt.plot(x, C, linestyle='-', label='predicted_C')\n",
    "plt.plot(x, ex_c, linestyle='--', label='exact_C')\n",
    "plt.plot(x, E, linestyle='-', label='predicted_E')\n",
    "plt.plot(x, ex_E, linestyle='--', label='exact_E')\n",
    "plt.xlabel('x')\n",
    "\n",
    "plt.legend()\n",
    "plt.grid(True)\n",
    "plt.show()\n",
    "plt.plot(losses)\n",
    "plt.yscale('log')"
   ]
  },
  {
   "cell_type": "markdown",
   "id": "b304abe7",
   "metadata": {},
   "source": [
    "# load pretrained model"
   ]
  },
  {
   "cell_type": "code",
   "execution_count": 6,
   "id": "f3385159",
   "metadata": {},
   "outputs": [
    {
     "data": {
      "text/plain": [
       "<Figure size 640x480 with 0 Axes>"
      ]
     },
     "metadata": {},
     "output_type": "display_data"
    },
    {
     "data": {
      "image/png": "[encoded data removed]",
      "text/plain": [
       "<Figure size 800x600 with 1 Axes>"
      ]
     },
     "metadata": {},
     "output_type": "display_data"
    },
    {
     "ename": "NameError",
     "evalue": "name 'losses' is not defined",
     "output_type": "error",
     "traceback": [
      "\u001b[1;31m---------------------------------------------------------------------------\u001b[0m",
      "\u001b[1;31mNameError\u001b[0m                                 Traceback (most recent call last)",
      "Cell \u001b[1;32mIn[6], line 42\u001b[0m\n\u001b[0;32m     40\u001b[0m plt\u001b[38;5;241m.\u001b[39mgrid(\u001b[38;5;28;01mTrue\u001b[39;00m)\n\u001b[0;32m     41\u001b[0m plt\u001b[38;5;241m.\u001b[39mshow()\n\u001b[1;32m---> 42\u001b[0m plt\u001b[38;5;241m.\u001b[39mplot(\u001b[43mlosses\u001b[49m)\n\u001b[0;32m     43\u001b[0m plt\u001b[38;5;241m.\u001b[39myscale(\u001b[38;5;124m'\u001b[39m\u001b[38;5;124mlog\u001b[39m\u001b[38;5;124m'\u001b[39m)\n",
      "\u001b[1;31mNameError\u001b[0m: name 'losses' is not defined"
     ]
    }
   ],
   "source": [
    "net=torch.load(\"model_1Dec_linschLR_300_ln33_.pt\")\n",
    "import matplotlib.pyplot as plt\n",
    "from matplotlib import cm\n",
    "from matplotlib.ticker import LinearLocator, FormatStrFormatter\n",
    "import numpy as np\n",
    "\n",
    "fig = plt.figure()\n",
    "#ax = fig.gca(projection='3d')\n",
    "\n",
    "\n",
    "x=np.arange(0,1,0.001)\n",
    "# xe=np.arange(0,1,0.02).reshape(len(x), 1)\n",
    "# print(xe.shape)\n",
    "\n",
    "pt_x = torch.from_numpy(x).float().reshape(len(x), 1)\n",
    "pt_x.requires_grad = True \n",
    "# xx=Variable(torch.from_numpy(xe).float(), requires_grad=True).to(device)\n",
    "pt_out = net(pt_x)\n",
    "#print(pt_out)\n",
    "C=pt_out[:,0].detach().numpy()\n",
    "phi=pt_out[:,1]\n",
    "# Compute the derivative dphi/dx for each element in phi\n",
    "d_phi_dx = torch.autograd.grad(phi.sum(), pt_x, create_graph=True)[0]\n",
    "\n",
    "# Calculate E = -dphi/dx\n",
    "E = -d_phi_dx.detach().numpy().squeeze()  # Ensure the same shape as x\n",
    "\n",
    "ex_c = exact_C(x)\n",
    "ex_E = exact_E(x)\n",
    "\n",
    "# Plotting\n",
    "plt.figure(figsize=(8, 6))\n",
    "plt.plot(x, C,  color='black', label='predicted_C')\n",
    "plt.plot(x, ex_c, linestyle='--', color='yellow',label='exact_C')\n",
    "plt.plot(x, E, color='magenta', label='predicted_E')\n",
    "plt.plot(x, ex_E, color='navy',linestyle='--', label='exact_E')\n",
    "plt.xlabel('x')\n",
    "\n",
    "plt.legend()\n",
    "plt.grid(True)\n",
    "plt.show()\n",
    "plt.plot(losses)\n",
    "plt.yscale('log')"
   ]
  },
  {
   "cell_type": "code",
   "execution_count": null,
   "id": "d373b363",
   "metadata": {},
   "outputs": [],
   "source": []
  }
 ],
 "metadata": {
  "kernelspec": {
   "display_name": "Python 3 (ipykernel)",
   "language": "python",
   "name": "python3"
  },
  "language_info": {
   "codemirror_mode": {
    "name": "ipython",
    "version": 3
   },
   "file_extension": ".py",
   "mimetype": "text/x-python",
   "name": "python",
   "nbconvert_exporter": "python",
   "pygments_lexer": "ipython3",
   "version": "3.10.9"
  }
 },
 "nbformat": 4,
 "nbformat_minor": 5
}
